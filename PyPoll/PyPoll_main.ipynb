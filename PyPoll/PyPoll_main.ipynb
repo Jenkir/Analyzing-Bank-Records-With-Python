{
 "cells": [
  {
   "cell_type": "code",
   "execution_count": null,
   "metadata": {},
   "outputs": [],
   "source": [
    "import os\n",
    "\n",
    "import csv\n",
    "\n",
    "csvpath = os.path.join('..', 'Resources', 'election_data.csv')\n",
    "\n",
    "with open(csvpath, newline='') as csvfile:\n",
    "\n",
    "    csvreader = csv.reader(csvfile, delimiter=',')\n",
    "\n",
    "    header=next(csvreader)\n"
   ]
  },
  {
   "cell_type": "code",
   "execution_count": null,
   "metadata": {},
   "outputs": [],
   "source": [
    " total_vote=0\n",
    "    county=[]\n",
    "    candidate=[]\n",
    "    candidate_total_vote=[]\n",
    "    percent_vote=[]\n",
    "\n",
    "    for i in csvreader:\n",
    "        #Counts total votes\n",
    "        total_vote+=1\n",
    "\n",
    "        #Appends candidate names into empty list (cadidate)\n",
    "        if i[2] not in candidate:\n",
    "            candidate.append(i[2])\n",
    "        else:\n",
    "            pass\n"
   ]
  },
  {
   "cell_type": "code",
   "execution_count": null,
   "metadata": {},
   "outputs": [],
   "source": [
    "for i in candidate:\n",
    "        candidate_won=0\n",
    "\n",
    "        #Seeks back to beginning of file to read\n",
    "        csvfile.seek(0)\n",
    "\n",
    "        #Skip header\n",
    "        next(csvreader)\n",
    "\n",
    "        for j in csvreader:\n",
    "\n",
    "            #If candidate name matches name in cadidate list increase their vote count\n",
    "            if j[2]==i:\n",
    "                candidate_won+=1\n",
    "            else:\n",
    "                pass\n"
   ]
  },
  {
   "cell_type": "code",
   "execution_count": null,
   "metadata": {},
   "outputs": [],
   "source": [
    " #Appends each candidate vote count to empty list candidate_total_vote\n",
    "        candidate_total_vote.append(candidate_won)\n",
    "        percent_vote.append(round((candidate_won/total_vote)*100,3))\n",
    "\n",
    "    #Identitfy winner by matching the highest score in list candidate_total_vote\n",
    "    winner=candidate_total_vote.index(max(candidate_total_vote))"
   ]
  },
  {
   "cell_type": "code",
   "execution_count": null,
   "metadata": {},
   "outputs": [],
   "source": [
    " print(\"\\nElection Results\\n-------------------------\")\n",
    "    print(f\"Total Votes: {total_vote}\\n-------------------------\")\n",
    "    for candidates in range(len(candidate)):\n",
    "        print(f\"{candidate[candidates]}: {percent_vote[candidates]}% ({candidate_total_vote[candidates]})\")\n",
    "    print(f\"-------------------------\\nWinner: {candidate[winner]}\\n-------------------------\")\n"
   ]
  },
  {
   "cell_type": "code",
   "execution_count": null,
   "metadata": {},
   "outputs": [],
   "source": [
    "#Write results to txt file\n",
    "poll=open(\"PyPoll.txt\",\"w\")\n",
    "\n",
    "poll.write(\"Election Results\\n-------------------------\\n\")\n",
    "poll.write(f\"Total Votes: {total_vote}\\n-------------------------\\n\")\n",
    "for candidates in range(len(candidate)):\n",
    "    poll.write(f\"{candidate[candidates]}: {percent_vote[candidates]}% ({candidate_total_vote[candidates]})\\n\")\n",
    "poll.write(f\"-------------------------\\nWinner: {candidate[winner]}\\n-------------------------\")"
   ]
  }
 ],
 "metadata": {
  "kernelspec": {
   "display_name": "Python 3",
   "language": "python",
   "name": "python3"
  },
  "language_info": {
   "codemirror_mode": {
    "name": "ipython",
    "version": 3
   },
   "file_extension": ".py",
   "mimetype": "text/x-python",
   "name": "python",
   "nbconvert_exporter": "python",
   "pygments_lexer": "ipython3",
   "version": "3.7.9"
  }
 },
 "nbformat": 4,
 "nbformat_minor": 4
}
