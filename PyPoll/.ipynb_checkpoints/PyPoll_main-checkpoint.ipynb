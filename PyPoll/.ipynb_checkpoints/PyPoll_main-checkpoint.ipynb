{
 "cells": [
  {
   "cell_type": "code",
   "execution_count": 1,
   "metadata": {},
   "outputs": [
    {
     "name": "stdout",
     "output_type": "stream",
     "text": [
      "Total Votes: 3521001\n"
     ]
    }
   ],
   "source": [
    "import os\n",
    "import csv\n",
    "\n",
    "csvpath = os.path.join('election_data.csv')\n",
    "\n",
    "with open(csvpath, newline='') as csvfile:\n",
    "    #reads all of the content into variable csvreader\n",
    "    csvreader = csv.reader(csvfile, delimiter=',')\n",
    "    \n",
    "    #read header row into variable \"header\"\n",
    "    header=next(csvreader)\n",
    "        \n",
    "    total_votes = 0\n",
    "    votes = []\n",
    "    candidate_dict = {}\n",
    "    unique_candidates = []\n",
    "    total_percent = []\n",
    "    \n",
    "    #now starting from 2nd row\n",
    "    #create loop to go through each row; so everything I want to do with data will be indented in the \"for loop\"\n",
    "    for row in csvreader:\n",
    "        \n",
    "        #Counts total votes and percentage for each candidate\n",
    "        total_votes += 1\n",
    "        candidate_name = row[2]\n",
    "        if candidate_name not in unique_candidates:\n",
    "            unique_candidates.append(candidate_name)  # ['Khan', 'Correy', 'Li', 'O'Tooley']\n",
    "            #create candidate KEY in \"candidate\" & initialize with VALUE 0\n",
    "            candidate_dict[candidate_name] = 0  #{\"Khan\": 0, \"Correy\": 0, \"Li\": 0, \"O'Tooley\": 0} candidates have 0 votes to start\n",
    "            \n",
    "        candidate_dict[candidate_name] += 1    #adds a vote each time it loops through the candidates {\"Khan\": 1, \"Correy\": 1, etc.}\n",
    "        \n",
    "print(\"Total Votes: \" + str(total_votes))\n"
   ]
  },
  {
   "cell_type": "code",
   "execution_count": 2,
   "metadata": {},
   "outputs": [
    {
     "name": "stdout",
     "output_type": "stream",
     "text": [
      "{'Khan': 2218231, 'Correy': 704200, 'Li': 492940, \"O'Tooley\": 105630}\n",
      "['Khan', 'Correy', 'Li', \"O'Tooley\"]\n"
     ]
    }
   ],
   "source": [
    "#print(candidate_dict[unique_candidates[2]])\n",
    "print(candidate_dict)\n",
    "print(unique_candidates)  # list of candidates that got votes"
   ]
  },
  {
   "cell_type": "code",
   "execution_count": 3,
   "metadata": {},
   "outputs": [],
   "source": [
    "candidate_avg_dict = {}\n",
    "# Loop\n",
    "for candidate in unique_candidates:\n",
    "    candidate_vote = candidate_dict[candidate]   #Li 492,940 votes\n",
    "    candidate_average = candidate_vote/ total_votes * 100\n",
    "    candidate_avg_dict[candidate] = candidate_average\n",
    "    \n",
    "    total_percent.append(round(votes.count(candidate)/total_votes*100,2))\n",
    "\n",
    "      \n",
    "    #once this loop is done, will have another dictionary of candidate names (KEY) and averages (VALUE)"
   ]
  },
  {
   "cell_type": "code",
   "execution_count": 5,
   "metadata": {},
   "outputs": [
    {
     "name": "stdout",
     "output_type": "stream",
     "text": [
      "2218231\n",
      "Khan\n",
      "Election Results\n",
      "--------------------------------\n",
      "Total Votes: 3521001\n",
      "--------------------------------\n"
     ]
    },
    {
     "ename": "KeyError",
     "evalue": "0",
     "output_type": "error",
     "traceback": [
      "\u001b[1;31m---------------------------------------------------------------------------\u001b[0m",
      "\u001b[1;31mKeyError\u001b[0m                                  Traceback (most recent call last)",
      "\u001b[1;32m<ipython-input-5-4679860ac3ed>\u001b[0m in \u001b[0;36m<module>\u001b[1;34m\u001b[0m\n\u001b[0;32m     15\u001b[0m \u001b[0mprint\u001b[0m\u001b[1;33m(\u001b[0m\u001b[1;34m'--------------------------------'\u001b[0m\u001b[1;33m)\u001b[0m\u001b[1;33m\u001b[0m\u001b[1;33m\u001b[0m\u001b[0m\n\u001b[0;32m     16\u001b[0m \u001b[1;32mfor\u001b[0m \u001b[0mp\u001b[0m \u001b[1;32min\u001b[0m \u001b[0mrange\u001b[0m\u001b[1;33m(\u001b[0m\u001b[0mlen\u001b[0m\u001b[1;33m(\u001b[0m\u001b[0munique_candidates\u001b[0m\u001b[1;33m)\u001b[0m\u001b[1;33m)\u001b[0m\u001b[1;33m:\u001b[0m\u001b[1;33m\u001b[0m\u001b[1;33m\u001b[0m\u001b[0m\n\u001b[1;32m---> 17\u001b[1;33m     \u001b[0mprint\u001b[0m\u001b[1;33m(\u001b[0m\u001b[1;34mf'{candidate_dict[p]} {total_percent[p]}% {candidate_avg_dict[p]}'\u001b[0m\u001b[1;33m)\u001b[0m\u001b[1;33m\u001b[0m\u001b[1;33m\u001b[0m\u001b[0m\n\u001b[0m\u001b[0;32m     18\u001b[0m \u001b[1;33m\u001b[0m\u001b[0m\n\u001b[0;32m     19\u001b[0m \u001b[0mprint\u001b[0m\u001b[1;33m(\u001b[0m\u001b[1;34m'--------------------------------'\u001b[0m\u001b[1;33m)\u001b[0m\u001b[1;33m\u001b[0m\u001b[1;33m\u001b[0m\u001b[0m\n",
      "\u001b[1;31mKeyError\u001b[0m: 0"
     ]
    }
   ],
   "source": [
    "#winner - most votes (by count)\n",
    "count = 0\n",
    "winner = \"\"\n",
    "for candidate in unique_candidates:\n",
    "    candidate_vote = candidate_dict[candidate]   #using the KEY (candidate's name) to retrieve the VALUE (votes) from dictionary\n",
    "    if candidate_vote > count:\n",
    "        count = candidate_vote\n",
    "        winner = candidate\n",
    "        \n",
    "print(count)\n",
    "print(winner)        \n",
    "# print('Election Results')\n",
    "# print('--------------------------------')\n",
    "# print(f'Total Votes: {total_votes}')\n",
    "# print('--------------------------------')\n",
    "# for p in range(len(unique_candidates)):\n",
    "#     print(f'{candidate_dict[p]} {total_percent[p]}% {candidate_avg_dict[p]}')   \n",
    "          \n",
    "# print('--------------------------------')\n",
    "# print(f'Winner: {winner}')\n",
    "# print('--------------------------------')"
   ]
  },
  {
   "cell_type": "code",
   "execution_count": 7,
   "metadata": {},
   "outputs": [
    {
     "name": "stdout",
     "output_type": "stream",
     "text": [
      "Election Results\n",
      "--------------------------------\n",
      "Total Votes: 3521001\n",
      "--------------------------------\n"
     ]
    },
    {
     "ename": "TypeError",
     "evalue": "unsupported format string passed to list.__format__",
     "output_type": "error",
     "traceback": [
      "\u001b[1;31m---------------------------------------------------------------------------\u001b[0m",
      "\u001b[1;31mTypeError\u001b[0m                                 Traceback (most recent call last)",
      "\u001b[1;32m<ipython-input-7-8be72fa5d724>\u001b[0m in \u001b[0;36m<module>\u001b[1;34m\u001b[0m\n\u001b[0;32m      4\u001b[0m \u001b[0mprint\u001b[0m\u001b[1;33m(\u001b[0m\u001b[1;34m'--------------------------------'\u001b[0m\u001b[1;33m)\u001b[0m\u001b[1;33m\u001b[0m\u001b[1;33m\u001b[0m\u001b[0m\n\u001b[0;32m      5\u001b[0m \u001b[1;33m\u001b[0m\u001b[0m\n\u001b[1;32m----> 6\u001b[1;33m \u001b[0moutput\u001b[0m \u001b[1;33m=\u001b[0m \u001b[1;34mf'({unique_candidates}: {total_percent:.3f}% ({candidate_vote})\\n)'\u001b[0m\u001b[1;33m\u001b[0m\u001b[1;33m\u001b[0m\u001b[0m\n\u001b[0m\u001b[0;32m      7\u001b[0m \u001b[1;33m\u001b[0m\u001b[0m\n\u001b[0;32m      8\u001b[0m \u001b[0mprint\u001b[0m\u001b[1;33m(\u001b[0m\u001b[1;34m'--------------------------------'\u001b[0m\u001b[1;33m)\u001b[0m\u001b[1;33m\u001b[0m\u001b[1;33m\u001b[0m\u001b[0m\n",
      "\u001b[1;31mTypeError\u001b[0m: unsupported format string passed to list.__format__"
     ]
    }
   ],
   "source": [
    "print('Election Results')\n",
    "print('--------------------------------')\n",
    "print(f'Total Votes: {total_votes}')\n",
    "print('--------------------------------')\n",
    "\n",
    "output = f'({unique_candidates}: {total_percent:.3f}% ({candidate_vote})\\n)'\n",
    "\n",
    "print('--------------------------------')\n",
    "print(f'Winner: {winner}')\n",
    "print('--------------------------------')\n",
    "print(output)"
   ]
  },
  {
   "cell_type": "code",
   "execution_count": null,
   "metadata": {},
   "outputs": [],
   "source": [
    "#Write results to txt file\n",
    "# poll=open(\"PyPoll.txt\",\"w\")\n",
    "\n",
    "# poll.write(\"Election Results\\n-------------------------\\n\")\n",
    "# poll.write(f\"Total Votes: {total_vote}\\n-------------------------\\n\")\n",
    "# for candidates in range(len(candidate)):\n",
    "#     poll.write(f\"{candidate[candidates]}: {percent_vote[candidates]}% ({candidate_total_vote[candidates]})\\n\")\n",
    "# poll.write(f\"-------------------------\\nWinner: {candidate[winner]}\\n-------------------------\")"
   ]
  }
 ],
 "metadata": {
  "kernelspec": {
   "display_name": "Python 3",
   "language": "python",
   "name": "python3"
  },
  "language_info": {
   "codemirror_mode": {
    "name": "ipython",
    "version": 3
   },
   "file_extension": ".py",
   "mimetype": "text/x-python",
   "name": "python",
   "nbconvert_exporter": "python",
   "pygments_lexer": "ipython3",
   "version": "3.7.9"
  }
 },
 "nbformat": 4,
 "nbformat_minor": 4
}
